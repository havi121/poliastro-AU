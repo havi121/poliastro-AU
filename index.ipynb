{
 "cells": [
  {
   "cell_type": "markdown",
   "metadata": {},
   "source": [
    "# Gallery of examples\n",
    "\n",
    "![logo_text.png](docs/source/examples/logo_text.png)\n",
    "\n",
    "Here you can browse a gallery of examples using poliastro in the form of Jupyter notebooks."
   ]
  },
  {
   "cell_type": "markdown",
   "metadata": {},
   "source": [
    "## [Comparing Hohmann and bielliptic transfers](docs/source/examples/Comparing%20Hohmann%20and%20bielliptic%20transfers.mystnb)\n",
    "\n",
    "[![hohmann_bielliptic](docs/source/examples/hohmann_bielliptic.png)](docs/source/examples/Comparing%20Hohmann%20and%20bielliptic%20transfers.mystnb)\n",
    "\n",
    "## [Exploring the New Horizons launch](docs/source/examples/Exploring%20the%20New%20Horizons%20launch.mystnb)\n",
    "\n",
    "[![new_horizons](docs/source/examples/new_horizons.png)](docs/source/examples/Exploring%20the%20New%20Horizons%20launch.mystnb)\n",
    "\n",
    "## [Going to Jupiter with Python using Jupyter and poliastro](docs/source/examples/Going%20to%20Jupiter%20with%20Python%20using%20Jupyter%20and%20poliastro.mystnb)\n",
    "\n",
    "[![mars](docs/source/examples/jupiter.png)](docs/source/examples/Going%20to%20Jupiter%20with%20Python%20using%20Jupyter%20and%20poliastro.mystnb)\n",
    "\n",
    "## [Going to Mars with Python using poliastro](docs/source/examples/Going%20to%20Mars%20with%20Python%20using%20poliastro.mystnb)\n",
    "\n",
    "[![mars](docs/source/examples/trans_30_260.png)](docs/source/examples/Going%20to%20Mars%20with%20Python%20using%20poliastro.mystnb)\n",
    "\n",
    "## [Propagation using Cowell's formulation](docs/source/examples/Propagation%20using%20Cowells%20formulation.mystnb)\n",
    "\n",
    "[![cowell](docs/source/examples/cowell.png)](docs/source/examples/Propagation%20using%20Cowells%20formulation.mystnb)\n",
    "\n",
    "## [Revisiting Lambert's problem in Python](docs/source/examples/Revisiting%20Lamberts%20problem%20in%20Python.mystnb)\n",
    "\n",
    "[![cowell](docs/source/examples/lambert.png)](docs/source/examples/Revisiting%20Lamberts%20problem%20in%20Python.mystnb)\n",
    "\n",
    "## [Studying Hohmann transfers](docs/source/examples/Studying%20Hohmann%20transfers.mystnb)\n",
    "\n",
    "[![hohmann](docs/source/examples/hohmann.png)](docs/source/examples/Studying%20Hohmann%20transfers.mystnb)\n",
    "\n",
    "## [Catch that asteroid!](docs/source/examples/Catch%20that%20asteroid!.mystnb)\n",
    "\n",
    "[![Florence](docs/source/examples/Florence.png)](docs/source/examples/Catch%20that%20asteroid!.mystnb)\n",
    "\n",
    "## [Analyzing NEOs](docs/source/examples/Analyzing%20NEOs.mystnb)\n",
    "\n",
    "[![NEOS](docs/source/examples/NEOS.png)](docs/source/examples/Analyzing%20NEOs.mystnb)\n",
    "\n",
    "## [Plotting in 3D](docs/source/examples/Plotting%20in%203D.mystnb)\n",
    "\n",
    "[![3DPlot](docs/source/examples/3DPlot.png)](docs/source/examples/Plotting%20in%203D.mystnb)\n",
    "\n",
    "## [Visualizing the SpaceX Tesla Roadster trip to Mars](docs/source/examples/Visualizing%20the%20SpaceX%20Tesla%20Roadster%20trip%20to%20Mars.mystnb)\n",
    "\n",
    "[![3DPlot](docs/source/examples/Tesla.png)](docs/source/examples/Visualizing%20the%20SpaceX%20Tesla%20Roadster%20trip%20to%20Mars.mystnb)"
   ]
  },
  {
   "cell_type": "markdown",
   "metadata": {},
   "source": [
    "## Old notebooks\n",
    "\n",
    "These notebooks are based on old versions of poliastro and cannot be run with current ones. They are kept here for historical purposes.\n",
    "\n",
    "* https://github.com/poliastro/poliastro/blob/c361af5/examples/Solving%20Lambert's%20problem%20in%20Python.ipynb\n",
    "* https://github.com/poliastro/poliastro/blob/9e71402/examples/Quickly%20solving%20Kepler's%20Problem%20in%20Python%20using%20numba.ipynb"
   ]
  }
 ],
 "metadata": {
  "kernelspec": {
   "display_name": "Python 3",
   "language": "python",
   "name": "python3"
  },
  "language_info": {
   "codemirror_mode": {
    "name": "ipython",
    "version": 3
   },
   "file_extension": ".py",
   "mimetype": "text/x-python",
   "name": "python",
   "nbconvert_exporter": "python",
   "pygments_lexer": "ipython3",
   "version": "3.8.6"
  }
 },
 "nbformat": 4,
 "nbformat_minor": 2
}
